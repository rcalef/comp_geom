{
 "cells": [
  {
   "cell_type": "code",
   "execution_count": 1,
   "metadata": {},
   "outputs": [],
   "source": [
    "import os\n",
    "\n",
    "import matplotlib.pyplot as plt\n",
    "import numpy as np\n",
    "import pandas as pd\n",
    "import seaborn as sns"
   ]
  },
  {
   "cell_type": "code",
   "execution_count": 2,
   "metadata": {},
   "outputs": [],
   "source": [
    "def gen_random_points(n=20, xmin = 0, xmax = 10, ymin = 0, ymax = 10, seed = 42):\n",
    "    pts = np.random.rand(n, 2)\n",
    "\n",
    "    xrange = xmax - xmin\n",
    "    pts[:, 0] *= xrange\n",
    "    pts[:, 0] += xmin\n",
    "\n",
    "    yrange = ymax - ymin\n",
    "    pts[:, 1] *= yrange\n",
    "    pts[:, 1] += ymin\n",
    "    return pts"
   ]
  },
  {
   "cell_type": "code",
   "execution_count": 3,
   "metadata": {},
   "outputs": [
    {
     "data": {
      "text/plain": [
       "array([[7.64851575, 5.34374642],\n",
       "       [4.05874872, 7.82179868],\n",
       "       [1.70713847, 3.83316503],\n",
       "       [8.75459361, 8.50344819],\n",
       "       [3.64627815, 0.59065129],\n",
       "       [4.94120135, 5.684382  ],\n",
       "       [3.51948345, 7.09040809],\n",
       "       [9.90561505, 3.25354845],\n",
       "       [1.96742715, 1.17852709],\n",
       "       [3.3044573 , 3.35477389],\n",
       "       [5.96125003, 4.97821201],\n",
       "       [7.18572664, 3.22855822],\n",
       "       [6.44304215, 0.62131382],\n",
       "       [9.07028107, 0.94975434],\n",
       "       [0.79290623, 3.04031443],\n",
       "       [4.89111094, 4.63016694],\n",
       "       [0.45712703, 2.83780616],\n",
       "       [8.17420404, 6.05204304],\n",
       "       [9.61649627, 6.4556022 ],\n",
       "       [2.45723036, 8.23630489]])"
      ]
     },
     "execution_count": 3,
     "metadata": {},
     "output_type": "execute_result"
    }
   ],
   "source": [
    "pts = gen_random_points()\n",
    "pts"
   ]
  },
  {
   "cell_type": "code",
   "execution_count": 4,
   "metadata": {},
   "outputs": [
    {
     "data": {
      "text/plain": [
       "<matplotlib.collections.PathCollection at 0x122578490>"
      ]
     },
     "execution_count": 4,
     "metadata": {},
     "output_type": "execute_result"
    },
    {
     "data": {
      "image/png": "[encoded data removed]",
      "text/plain": [
       "<Figure size 640x480 with 1 Axes>"
      ]
     },
     "metadata": {},
     "output_type": "display_data"
    }
   ],
   "source": [
    "plt.scatter(x=pts[:, 0], y=pts[:, 1])"
   ]
  },
  {
   "cell_type": "code",
   "execution_count": 5,
   "metadata": {},
   "outputs": [],
   "source": [
    "def min_dist_bf(pts):\n",
    "    min_i = 0\n",
    "    min_j = 0\n",
    "    min_dist = float(\"inf\")\n",
    "    for i in range(len(pts)-1):\n",
    "        for j in range(i+1, len(pts)):\n",
    "            dist = np.sqrt(np.sum((pts[i] - pts[j]) ** 2))\n",
    "            if dist < min_dist:\n",
    "                min_dist = dist\n",
    "                min_i = i\n",
    "                min_j = j\n",
    "    return min_i, min_j, min_dist"
   ]
  },
  {
   "cell_type": "code",
   "execution_count": 6,
   "metadata": {},
   "outputs": [],
   "source": [
    "def min_dist_splitting(data):\n",
    "    sorted_x = np.argsort(data[:, 0])\n",
    "    return min_dist_recurse(data, sorted_x)\n",
    "\n",
    "def min_dist_recurse(data, sorted_x):\n",
    "    if len(sorted_x) == 3 or len(sorted_x) == 2:\n",
    "        got = min_dist_bf(data[sorted_x])\n",
    "        i, j, d = got\n",
    "        return sorted_x[i], sorted_x[j], d\n",
    "\n",
    "    mid = len(sorted_x) // 2\n",
    "    min_i, min_j, min_d = min_dist_recurse(data, sorted_x[:mid])\n",
    "    r_i, r_j, r_d = min_dist_recurse(data, sorted_x[mid:])\n",
    "    if r_d < min_d:\n",
    "        min_i = r_i\n",
    "        min_j = r_j\n",
    "        min_d = r_d\n",
    "\n",
    "    mid_x = data[sorted_x[mid]][0]\n",
    "    strip_l = mid_x - min_d\n",
    "    strip_r = mid_x + min_d\n",
    "    sorted_y_data = np.argsort(data[sorted_x, 1])\n",
    "\n",
    "    for i in range(1, len(sorted_y_data)):\n",
    "        real_i = sorted_x[sorted_y_data[i]]\n",
    "        xi, yi = data[real_i]\n",
    "        if xi < strip_l or xi > strip_r:\n",
    "            continue\n",
    "        for j in range(i-1, -1, -1):\n",
    "            real_j = sorted_x[sorted_y_data[j]]\n",
    "            xj, yj = data[real_j]\n",
    "            if yi - yj > min_d:\n",
    "                break\n",
    "            if xj < strip_l or xj > strip_r:\n",
    "                continue\n",
    "            d = np.sqrt(np.sum((data[real_i] - data[real_j]) ** 2))\n",
    "            if d < min_d:\n",
    "                min_d = d\n",
    "                min_i = real_i\n",
    "                min_j = real_j\n",
    "    return min_i, min_j, min_d"
   ]
  },
  {
   "cell_type": "code",
   "execution_count": 7,
   "metadata": {},
   "outputs": [],
   "source": [
    "big_pts = gen_random_points(n=1000)"
   ]
  },
  {
   "cell_type": "code",
   "execution_count": 8,
   "metadata": {},
   "outputs": [
    {
     "data": {
      "text/plain": [
       "(245, 378, 0.009773464324546927)"
      ]
     },
     "execution_count": 8,
     "metadata": {},
     "output_type": "execute_result"
    }
   ],
   "source": [
    "min_dist_bf(big_pts)"
   ]
  },
  {
   "cell_type": "code",
   "execution_count": 9,
   "metadata": {},
   "outputs": [
    {
     "data": {
      "text/plain": [
       "(378, 245, 0.009773464324546927)"
      ]
     },
     "execution_count": 9,
     "metadata": {},
     "output_type": "execute_result"
    }
   ],
   "source": [
    "min_dist_splitting(big_pts)"
   ]
  },
  {
   "cell_type": "code",
   "execution_count": 10,
   "metadata": {},
   "outputs": [
    {
     "name": "stdout",
     "output_type": "stream",
     "text": [
      "1.02 s ± 3.15 ms per loop (mean ± std. dev. of 7 runs, 1 loop each)\n"
     ]
    }
   ],
   "source": [
    "%%timeit\n",
    "min_dist_bf(big_pts)"
   ]
  },
  {
   "cell_type": "code",
   "execution_count": 11,
   "metadata": {},
   "outputs": [
    {
     "name": "stdout",
     "output_type": "stream",
     "text": [
      "9.59 ms ± 33.7 µs per loop (mean ± std. dev. of 7 runs, 100 loops each)\n"
     ]
    }
   ],
   "source": [
    "%%timeit\n",
    "min_dist_splitting(big_pts)"
   ]
  }
 ],
 "metadata": {
  "kernelspec": {
   "display_name": "Python 3",
   "language": "python",
   "name": "python3"
  },
  "language_info": {
   "codemirror_mode": {
    "name": "ipython",
    "version": 3
   },
   "file_extension": ".py",
   "mimetype": "text/x-python",
   "name": "python",
   "nbconvert_exporter": "python",
   "pygments_lexer": "ipython3",
   "version": "3.11.4"
  }
 },
 "nbformat": 4,
 "nbformat_minor": 2
}
